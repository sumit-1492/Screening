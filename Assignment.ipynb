{
 "cells": [
  {
   "cell_type": "markdown",
   "id": "b9a5cd85",
   "metadata": {},
   "source": [
    "# 1. Create a function in python to read the text file and replace specific content of the file."
   ]
  },
  {
   "cell_type": "code",
   "execution_count": 5,
   "id": "17da0a55",
   "metadata": {},
   "outputs": [],
   "source": [
    "f = open(\"example.txt\", \"a\")\n",
    "print(\"This is a placement assignment\",end = \"\",file = f)\n",
    "f.close()"
   ]
  },
  {
   "cell_type": "code",
   "execution_count": 6,
   "id": "3555ba39",
   "metadata": {},
   "outputs": [
    {
     "name": "stdout",
     "output_type": "stream",
     "text": [
      "This is a placement assignment\n"
     ]
    }
   ],
   "source": [
    "file = open(\"example.txt\", 'r')\n",
    "content = file.read()\n",
    "print(content)\n",
    "file.close()"
   ]
  },
  {
   "cell_type": "code",
   "execution_count": 7,
   "id": "86619fa5",
   "metadata": {},
   "outputs": [],
   "source": [
    "def read_text(file):\n",
    "    file_l = file.split(\".\")\n",
    "    if file_l[1] == 'txt':\n",
    "        f = open(file, \"r\")\n",
    "        replacement = \"\"\n",
    "        for line in f:\n",
    "            print(\"Before:\",line)\n",
    "            line = line.strip()\n",
    "            changes = line.replace(\"placement\", \"screening\")\n",
    "            replacement = replacement + changes \n",
    "        f.close()\n",
    "        # opening the file in read and write mode\n",
    "        f_w = open(file, \"w\")\n",
    "        f_w.write(replacement)\n",
    "        f_w.close()\n",
    "        f_r = open(\"example.txt\", 'r')\n",
    "        content = f_r.read()\n",
    "        print(\"After:\",content)\n",
    "        f_r.close()\n",
    "    else:\n",
    "        return print(\"Bad input\")"
   ]
  },
  {
   "cell_type": "code",
   "execution_count": 8,
   "id": "f328ad07",
   "metadata": {},
   "outputs": [
    {
     "name": "stdout",
     "output_type": "stream",
     "text": [
      "Before: This is a placement assignment\n",
      "After: This is a screening assignment\n"
     ]
    }
   ],
   "source": [
    "read_text(\"example.txt\")"
   ]
  },
  {
   "cell_type": "markdown",
   "id": "9ec68aca",
   "metadata": {},
   "source": [
    "# 2. Demonstrate use of abstract class, multiple inheritance and decorator in python using examples."
   ]
  },
  {
   "cell_type": "code",
   "execution_count": null,
   "id": "06149755",
   "metadata": {},
   "outputs": [],
   "source": [
    "### Abstract Class"
   ]
  },
  {
   "cell_type": "markdown",
   "id": "2ce11149",
   "metadata": {},
   "source": [
    "# a. A class which has one or more than one abstract methods is called an abstract class. \n",
    "# Abstract class allows us to create a set of methods(functions) that should be created within any child classes  from the abstract class.\n",
    "# If we have more number of functional units there we can  use an abstract class.  "
   ]
  },
  {
   "cell_type": "code",
   "execution_count": 11,
   "id": "5e615023",
   "metadata": {},
   "outputs": [
    {
     "name": "stdout",
     "output_type": "stream",
     "text": [
      "I am a holy book\n",
      "I am a story book\n",
      "I am an university book\n"
     ]
    }
   ],
   "source": [
    "from abc import ABC, abstractmethod\n",
    " \n",
    "class Book(ABC):\n",
    "    @abstractmethod\n",
    "    def typeofbook(self):\n",
    "        pass\n",
    "class Gita(Book):\n",
    "    def typeofbook(self):\n",
    "        print(\"I am a holy book\")\n",
    "class GOT(Book):\n",
    "    def typeofbook(self):\n",
    "        print(\"I am a story book\")\n",
    "class Math(Book):\n",
    "    def typeofbook(self):\n",
    "        print(\"I am an university book\")\n",
    "        \n",
    "a = Gita()\n",
    "a.typeofbook()\n",
    " \n",
    "b = GOT()\n",
    "b.typeofbook()\n",
    " \n",
    "c = Math()\n",
    "c.typeofbook()"
   ]
  },
  {
   "cell_type": "code",
   "execution_count": 12,
   "id": "ba384abf",
   "metadata": {},
   "outputs": [],
   "source": [
    "### multiple inheritance "
   ]
  },
  {
   "cell_type": "markdown",
   "id": "cd3e2fb3",
   "metadata": {},
   "source": [
    "# If a class is derived from more than one parent class then it is known as multiple Inheritance. The derived class inherits all the features of the parent case.\n",
    " "
   ]
  },
  {
   "cell_type": "code",
   "execution_count": 17,
   "id": "9394b187",
   "metadata": {},
   "outputs": [
    {
     "name": "stdout",
     "output_type": "stream",
     "text": [
      "I am an apple\n",
      "I am a fruit\n",
      "I am a citrus fruit\n"
     ]
    }
   ],
   "source": [
    "class fruit:\n",
    "    def ic(self):\n",
    "        print(\"I am a fruit\")\n",
    "class citrusfruit(fruit):\n",
    "    def ic(self):\n",
    "        print(\"I am a citrus fruit\")\n",
    "class apple(citrusfruit):\n",
    "    def ic(self):\n",
    "        print(\"I am an apple\")\n",
    "        fruit.ic(self)\n",
    "        citrusfruit.ic(self)\n",
    "obj = apple()\n",
    "obj.ic()"
   ]
  },
  {
   "cell_type": "code",
   "execution_count": 18,
   "id": "83190448",
   "metadata": {},
   "outputs": [],
   "source": [
    "### decorator"
   ]
  },
  {
   "cell_type": "markdown",
   "id": "39261472",
   "metadata": {},
   "source": [
    "## A decorator adds some functionality to existing code and returns it.\n",
    "# By using decorator a part of the programming tries to modify another part of programming."
   ]
  },
  {
   "cell_type": "code",
   "execution_count": 21,
   "id": "7396f2c8",
   "metadata": {},
   "outputs": [],
   "source": [
    "def example_decorator(func):\n",
    "    def inside():\n",
    "        print(\"I am a example of decorator\")\n",
    "        func()\n",
    "    return inside\n",
    "\n",
    "@example_decorator\n",
    "def example():\n",
    "    print(\"Please follow me\")"
   ]
  },
  {
   "cell_type": "code",
   "execution_count": 22,
   "id": "8919dbe1",
   "metadata": {},
   "outputs": [
    {
     "name": "stdout",
     "output_type": "stream",
     "text": [
      "I am a example of decorator\n",
      "Please follow me\n"
     ]
    }
   ],
   "source": [
    "example()"
   ]
  },
  {
   "cell_type": "code",
   "execution_count": null,
   "id": "37087b50",
   "metadata": {},
   "outputs": [],
   "source": []
  }
 ],
 "metadata": {
  "kernelspec": {
   "display_name": "Python 3",
   "language": "python",
   "name": "python3"
  },
  "language_info": {
   "codemirror_mode": {
    "name": "ipython",
    "version": 3
   },
   "file_extension": ".py",
   "mimetype": "text/x-python",
   "name": "python",
   "nbconvert_exporter": "python",
   "pygments_lexer": "ipython3",
   "version": "3.8.8"
  }
 },
 "nbformat": 4,
 "nbformat_minor": 5
}
